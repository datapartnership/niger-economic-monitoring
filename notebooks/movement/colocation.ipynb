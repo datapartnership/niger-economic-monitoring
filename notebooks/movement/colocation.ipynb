{
 "cells": [
  {
   "cell_type": "code",
   "execution_count": 153,
   "metadata": {
    "tags": [
     "remove-cell"
    ]
   },
   "outputs": [],
   "source": [
    "import pandas as pd\n",
    "import geopandas as gpd\n",
    "import dask.dataframe as dd"
   ]
  },
  {
   "cell_type": "markdown",
   "metadata": {},
   "source": [
    "# Colocation Maps\n",
    "\n",
    "This dataset helps us identify where people colocated for every week. "
   ]
  },
  {
   "cell_type": "code",
   "execution_count": 154,
   "metadata": {
    "tags": [
     "remove-cell"
    ]
   },
   "outputs": [],
   "source": [
    "aoi = [\"NER\", \"NGA\", \"MLI\", \"BFA\", \"TCD\", \"DZA\", \"BEN\", \"LBY\"]"
   ]
  },
  {
   "cell_type": "code",
   "execution_count": 155,
   "metadata": {
    "tags": [
     "remove-tag",
     "remove-cell"
    ]
   },
   "outputs": [],
   "source": [
    "import glob\n",
    "\n",
    "colocation = pd.DataFrame()\n",
    "colocation_ddf = dd.from_pandas(colocation, npartitions=1)\n",
    "\n",
    "for file in glob.glob(\"../../data/movement/meta/colocation_maps/*.csv\"):\n",
    "    df = dd.read_csv(file)\n",
    "    df = df[df[\"country\"].isin(aoi)]\n",
    "    colocation_ddf = dd.concat([colocation_ddf, df])"
   ]
  },
  {
   "cell_type": "code",
   "execution_count": 156,
   "metadata": {
    "tags": [
     "remove-cell"
    ]
   },
   "outputs": [],
   "source": [
    "colocation_ddf = colocation_ddf.repartition(npartitions=1)"
   ]
  },
  {
   "cell_type": "code",
   "execution_count": 157,
   "metadata": {
    "tags": [
     "remove-cell"
    ]
   },
   "outputs": [],
   "source": [
    "niger_adm0 = gpd.read_file(\n",
    "    \"../../data/shapefiles/ner_adm_ignn_20230720_ab_shp/NER_admbnda_adm0_IGNN_20230720.shp\"\n",
    ")\n",
    "niger_adm1 = gpd.read_file(\n",
    "    \"../../data/shapefiles/ner_adm_ignn_20230720_ab_shp/NER_admbnda_adm1_IGNN_20230720.shp\"\n",
    ")\n",
    "niger_adm2 = gpd.read_file(\n",
    "    \"../../data/shapefiles/ner_adm_ignn_20230720_ab_shp/NER_admbnda_adm2_IGNN_20230720.shp\"\n",
    ")"
   ]
  },
  {
   "cell_type": "code",
   "execution_count": 158,
   "metadata": {
    "tags": [
     "remove-cell"
    ]
   },
   "outputs": [],
   "source": [
    "niger_gadm = gpd.read_file(\"../../data/shapefiles/gadm/gadm41_NER_2.json\")"
   ]
  },
  {
   "cell_type": "code",
   "execution_count": 159,
   "metadata": {
    "tags": [
     "remove-cell"
    ]
   },
   "outputs": [],
   "source": [
    "libya = gpd.read_file(\n",
    "    \"../../data/shapefiles/libya/lby_admbnda_adm0_unosat_lbsc_20180507.shp\"\n",
    ")\n",
    "nigeria = gpd.read_file(\n",
    "    \"../../data/shapefiles/nigeria/nga_admbnda_adm0_osgof_20190417.shp\"\n",
    ")\n",
    "algeria = gpd.read_file(\n",
    "    \"../../data/shapefiles/algeria/dza_admbnda_adm0_unhcr_20200120.shp\"\n",
    ")\n",
    "chad = gpd.read_file(\"../../data/shapefiles/chad/tcd_admbnda_adm0_ocha.shp\")\n",
    "mali = gpd.read_file(\"../../data/shapefiles/mali/mli_admbnda_adm0_1m_gov_20211220.shp\")\n",
    "burkinafaso = gpd.read_file(\n",
    "    \"../../data/shapefiles/burkinafaso/bfa_admbnda_adm0_igb_20200323.shp\"\n",
    ")"
   ]
  },
  {
   "cell_type": "code",
   "execution_count": 160,
   "metadata": {
    "tags": [
     "remove-cell"
    ]
   },
   "outputs": [],
   "source": [
    "neighbors = pd.concat([libya, mali, chad, algeria, nigeria, burkinafaso])\n",
    "countries_of_interest = pd.concat([niger_adm0, mali, burkinafaso])"
   ]
  },
  {
   "cell_type": "code",
   "execution_count": 161,
   "metadata": {
    "tags": [
     "remove-cell"
    ]
   },
   "outputs": [],
   "source": [
    "niger = colocation_ddf[colocation_ddf[\"country\"].isin([\"NER\"])]"
   ]
  },
  {
   "cell_type": "code",
   "execution_count": 162,
   "metadata": {
    "tags": [
     "remove-cell"
    ]
   },
   "outputs": [],
   "source": [
    "niger_gadm[\"centroid\"] = niger_gadm[\"geometry\"].apply(lambda x: x.centroid)"
   ]
  },
  {
   "cell_type": "code",
   "execution_count": 163,
   "metadata": {
    "tags": [
     "remove-cell"
    ]
   },
   "outputs": [],
   "source": [
    "niger[\"ds\"] = dd.to_datetime(niger[\"ds\"])"
   ]
  },
  {
   "cell_type": "code",
   "execution_count": 164,
   "metadata": {
    "tags": [
     "remove-cell"
    ]
   },
   "outputs": [],
   "source": [
    "niger[\"month\"] = niger[\"ds\"].dt.to_period(\"M\")"
   ]
  },
  {
   "cell_type": "code",
   "execution_count": 165,
   "metadata": {
    "tags": [
     "remove-cell"
    ]
   },
   "outputs": [],
   "source": [
    "def biweekly_grouper(date):\n",
    "    return (date.year, date.week // 2)"
   ]
  },
  {
   "cell_type": "code",
   "execution_count": 166,
   "metadata": {
    "tags": [
     "remove-cell"
    ]
   },
   "outputs": [],
   "source": [
    "def process_colocation(niger_monthly, time_column):\n",
    "    niger_monthly = niger_monthly.merge(\n",
    "        niger_gadm[[\"GID_2\", \"centroid\"]], left_on=\"polygon1_id\", right_on=\"GID_2\"\n",
    "    )\n",
    "\n",
    "    niger_monthly.rename(columns={\"centroid\": \"source_centroid\"}, inplace=True)\n",
    "    niger_monthly = niger_monthly.merge(\n",
    "        niger_gadm[[\"GID_2\", \"centroid\"]], left_on=\"polygon2_id\", right_on=\"GID_2\"\n",
    "    )\n",
    "    niger_monthly.rename(columns={\"centroid\": \"target_centroid\"}, inplace=True)\n",
    "\n",
    "    niger_monthly.drop(columns=[\"GID_2_x\", \"GID_2_y\"], inplace=True)\n",
    "    niger_monthly[\"source_lat\"] = niger_monthly[\"source_centroid\"].apply(lambda p: p.x)\n",
    "    niger_monthly[\"source_lon\"] = niger_monthly[\"source_centroid\"].apply(lambda p: p.y)\n",
    "    niger_monthly[\"target_lat\"] = niger_monthly[\"target_centroid\"].apply(lambda p: p.x)\n",
    "    niger_monthly[\"target_lon\"] = niger_monthly[\"target_centroid\"].apply(lambda p: p.y)\n",
    "\n",
    "    niger_monthly[time_column] = niger_monthly[time_column].apply(\n",
    "        lambda x: pd.to_datetime(x)\n",
    "    )\n",
    "\n",
    "    return niger_monthly"
   ]
  },
  {
   "cell_type": "code",
   "execution_count": 167,
   "metadata": {
    "tags": [
     "remove-cell"
    ]
   },
   "outputs": [],
   "source": [
    "niger[\"biweekly\"] = niger[\"ds\"].map(biweekly_grouper, meta=(\"date\", \"object\"))"
   ]
  },
  {
   "cell_type": "code",
   "execution_count": 168,
   "metadata": {
    "tags": [
     "remove-cell"
    ]
   },
   "outputs": [],
   "source": [
    "niger_monthly = niger.groupby(\n",
    "    [\n",
    "        \"month\",\n",
    "        \"polygon1_id\",\n",
    "        \"polygon2_id\",\n",
    "        \"polygon1_name\",\n",
    "        \"polygon2_name\",\n",
    "        \"country\",\n",
    "        \"polygon_level\",\n",
    "        \"is_home_tile_colocation\",\n",
    "    ]\n",
    ")[[\"weekly_measured_colocation_rate\", \"weekly_colocation_rate\"]].mean()"
   ]
  },
  {
   "cell_type": "code",
   "execution_count": 32,
   "metadata": {
    "tags": [
     "remove-cell"
    ]
   },
   "outputs": [],
   "source": [
    "niger_monthly = niger_monthly.compute()"
   ]
  },
  {
   "cell_type": "code",
   "execution_count": 115,
   "metadata": {
    "tags": [
     "remove-cell"
    ]
   },
   "outputs": [],
   "source": [
    "# niger_monthly.reset_index().to_csv('../../data/movement/meta/niger_monthly.csv')\n",
    "niger_monthly = pd.read_csv(\"../../data/movement/meta/niger_monthly.csv\")\n",
    "niger_monthly.drop(columns=\"Unnamed: 0\", inplace=True)"
   ]
  },
  {
   "cell_type": "code",
   "execution_count": 125,
   "metadata": {
    "tags": [
     "remove-cell"
    ]
   },
   "outputs": [],
   "source": [
    "niger_biweekly = (\n",
    "    niger.groupby(\n",
    "        [\n",
    "            \"biweekly\",\n",
    "            \"polygon1_id\",\n",
    "            \"polygon2_id\",\n",
    "            \"polygon1_name\",\n",
    "            \"polygon2_name\",\n",
    "            \"country\",\n",
    "            \"polygon_level\",\n",
    "            \"is_home_tile_colocation\",\n",
    "        ]\n",
    "    )[[\"weekly_measured_colocation_rate\", \"weekly_colocation_rate\"]]\n",
    "    .mean()\n",
    "    .reset_index()\n",
    ")"
   ]
  },
  {
   "cell_type": "code",
   "execution_count": 59,
   "metadata": {
    "tags": [
     "remove-cell"
    ]
   },
   "outputs": [],
   "source": [
    "niger_biweekly = niger_biweekly.compute()"
   ]
  },
  {
   "cell_type": "code",
   "execution_count": 169,
   "metadata": {
    "tags": [
     "remove-cell"
    ]
   },
   "outputs": [],
   "source": [
    "niger = niger.compute()"
   ]
  },
  {
   "cell_type": "code",
   "execution_count": 129,
   "metadata": {
    "tags": [
     "remove-cell"
    ]
   },
   "outputs": [],
   "source": [
    "niger[\"ds\"] = niger[\"ds\"].apply(lambda x: pd.to_datetime(x))"
   ]
  },
  {
   "cell_type": "code",
   "execution_count": 133,
   "metadata": {
    "tags": [
     "remove-cell"
    ]
   },
   "outputs": [],
   "source": [
    "niger.to_csv(\"../../data/movement/meta/niger_colocation_weekly.csv\")"
   ]
  },
  {
   "cell_type": "code",
   "execution_count": 132,
   "metadata": {
    "tags": [
     "remove-cell"
    ]
   },
   "outputs": [],
   "source": [
    "niger = process_colocation(niger, time_column=\"ds\")"
   ]
  },
  {
   "cell_type": "code",
   "execution_count": 148,
   "metadata": {
    "tags": [
     "remove-cell"
    ]
   },
   "outputs": [],
   "source": [
    "biweekly_date_mapper = (\n",
    "    niger[[\"biweekly\", \"ds\"]]\n",
    "    .drop_duplicates()\n",
    "    .groupby([\"biweekly\"])\n",
    "    .min()\n",
    "    .to_dict()[\"ds\"]\n",
    ")\n",
    "niger_biweekly[\"biweekly_datetime\"] = niger_biweekly[\"biweekly\"].apply(\n",
    "    lambda x: biweekly_date_mapper[x]\n",
    ")\n",
    "niger_biweekly = process_colocation(niger_biweekly, time_column=\"biweekly_datetime\")"
   ]
  },
  {
   "cell_type": "code",
   "execution_count": 152,
   "metadata": {
    "tags": [
     "remove-cell"
    ]
   },
   "outputs": [],
   "source": [
    "# niger_monthly.to_csv('../../data/movement/meta/colocation_niger_monthly.csv')\n",
    "niger_biweekly.to_csv(\"../../data/movement/meta/colocation_niger_biweekly.csv\")"
   ]
  },
  {
   "cell_type": "markdown",
   "metadata": {},
   "source": [
    "#### How to use the map?\n",
    "\n",
    "Click on the FourSquare logo on the top right corner to open the map on full screen. The timeline option at the bottom can be modified to look at movement at different temperal aggregations. \n",
    "\n",
    "The base aggregation of the map is at a biweekly level. The average colocation rate represents the rate at which people from the two admin regions interact. "
   ]
  },
  {
   "cell_type": "markdown",
   "metadata": {},
   "source": [
    "<iframe width=\"100%\" height=\"500px\" src=\"https://studio.foursquare.com/map/public/a9710c29-d74d-43c6-a907-b4f9e8d7050c/embed\" frameborder=\"0\" allowfullscreen></iframe>"
   ]
  },
  {
   "cell_type": "markdown",
   "metadata": {},
   "source": [
    "### Observations\n",
    "\n",
    "- In April 2023 there was a high rate of colocation between Laba and Taboua regions. \n",
    "- Overall, there seems to be higher colocation in early 2023 than in early 2024. "
   ]
  }
 ],
 "metadata": {
  "kernelspec": {
   "display_name": "data-goods",
   "language": "python",
   "name": "python3"
  },
  "language_info": {
   "codemirror_mode": {
    "name": "ipython",
    "version": 3
   },
   "file_extension": ".py",
   "mimetype": "text/x-python",
   "name": "python",
   "nbconvert_exporter": "python",
   "pygments_lexer": "ipython3",
   "version": "3.11.9"
  }
 },
 "nbformat": 4,
 "nbformat_minor": 2
}
