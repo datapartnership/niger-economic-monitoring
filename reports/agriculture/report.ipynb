{
 "cells": [
  {
   "cell_type": "markdown",
   "metadata": {
    "editable": true,
    "slideshow": {
     "slide_type": ""
    },
    "tags": []
   },
   "source": [
    "# Agriculture in Niger\n",
    "\n",
    "## Request\n",
    "\n",
    "Using NASA remote sensing data, analyze agricultural productivity trends in cropland areas.  \n",
    "\n",
    "For known commercial farms (static extent from LGRIP), analyze crop cycle/productivity over past 5 years (tbc by CO). Figures updated annually. \n",
    "\n",
    "For 2023 (season is June through November), identify total area of farms that have seen relatively consistent historic plantings but do not have observed plantings for 2023 growing season. Method for seasonal updates to be developed at a minimum after 2024 season ends (pending data quality and availability). "
   ]
  },
  {
   "cell_type": "markdown",
   "metadata": {
    "editable": true,
    "slideshow": {
     "slide_type": ""
    },
    "tags": []
   },
   "source": [
    "## Datasets"
   ]
  },
  {
   "cell_type": "markdown",
   "metadata": {},
   "source": [
    "### Cropland Extent\n",
    "\n",
    "We examined different cropland masks for the region, and decided that the layer produced by [Digital Earth Africa in 2021](https://docs.digitalearthafrica.org/en/latest/data_specs/Cropland_extent_specs.html) best represents the recent state of cropland in the Niger. The map has a resolution of 10 meters and was built with Sentinel-2 images from 2019. They used a Random Forest Classification with ~25K training samples for the continent, achieving an 87.9% accuracy for the Sahel region.\n",
    "\n",
    "Below is an interactive map that visualizes the mask we used, and a comparison with another global layer by [USGS (LGRIP30)](https://lpdaac.usgs.gov/products/lgrip30v001/)."
   ]
  },
  {
   "cell_type": "code",
   "execution_count": null,
   "metadata": {
    "editable": true,
    "slideshow": {
     "slide_type": ""
    },
    "tags": [
     "remove-cell"
    ]
   },
   "outputs": [],
   "source": [
    "# ee.Authenticate()"
   ]
  },
  {
   "cell_type": "code",
   "execution_count": null,
   "metadata": {
    "editable": true,
    "slideshow": {
     "slide_type": ""
    },
    "tags": [
     "remove-cell"
    ]
   },
   "outputs": [],
   "source": [
    "import ee\n",
    "import json\n",
    "import os\n",
    "\n",
    "# from dotenv import load_dotenv\n",
    "# load_dotenv()\n",
    "ee_creds = {\n",
    "    \"type\": \"service_account\",\n",
    "    \"project_id\": os.getenv(\"PROJECT_ID\"),\n",
    "    \"private_key_id\": os.getenv(\"PRIVATE_KEY_ID\"),\n",
    "    \"private_key\": os.getenv(\"PRIVATE_KEY\"),\n",
    "    \"client_email\": os.getenv(\"CLIENT_EMAIL\"),\n",
    "    \"client_id\": os.getenv(\"CLIENT_ID\"),\n",
    "    \"auth_uri\": \"https://accounts.google.com/o/oauth2/auth\",\n",
    "    \"token_uri\": \"https://oauth2.googleapis.com/token\",\n",
    "    \"auth_provider_x509_cert_url\": \"https://www.googleapis.com/oauth2/v1/certs\",\n",
    "    \"client_x509_cert_url\": os.getenv(\"CLIENT_X509_CERT_URL\"),\n",
    "}\n",
    "service_account = \"notebook@food-security-391017.iam.gserviceaccount.com\"\n",
    "credentials = ee.ServiceAccountCredentials(\n",
    "    service_account, key_data=json.dumps(ee_creds)\n",
    ")\n",
    "ee.Initialize(credentials)\n",
    "# ee.Initialize()"
   ]
  },
  {
   "cell_type": "code",
   "execution_count": null,
   "metadata": {
    "editable": true,
    "slideshow": {
     "slide_type": ""
    },
    "tags": [
     "hide-input"
    ]
   },
   "outputs": [],
   "source": [
    "from geemap.foliumap import Map\n",
    "import requests\n",
    "import geopandas as gpd\n",
    "from geemap.conversion import *\n",
    "from geemap import colormaps\n",
    "\n",
    "# Admin Data\n",
    "adm = \"ADM0\"\n",
    "iso3 = \"NER\"\n",
    "release_type = \"gbOpen\"\n",
    "geo_url = f\"https://www.geoboundaries.org/api/current/{release_type}/{iso3}/{adm}/\"\n",
    "try:\n",
    "    res = requests.get(geo_url).json()\n",
    "    adm0_ner = gpd.read_file(res[\"gjDownloadURL\"])\n",
    "    # adm0_ner.to_file('../../data/adm0_ner.geojson', driver='GeoJSON')\n",
    "except:\n",
    "    adm0_ner = gpd.read_file(\"../../data/adm0_ner.geojson\")\n",
    "\n",
    "one = adm0_ner.iloc[[0]]\n",
    "centx, centy = one.centroid.x.iloc[0], one.centroid.y.iloc[0]\n",
    "aoi = gdf_to_ee(adm0_ner)\n",
    "\n",
    "# Crop Masks\n",
    "lgrip30 = ee.ImageCollection(\"projects/sat-io/open-datasets/GFSAD/LGRIP30\").mosaic()\n",
    "crop_data = lgrip30.select(\"b1\").rename(\"crop\").clip(aoi)\n",
    "crop_data_viz = crop_data.mask(crop_data.gt(1))\n",
    "\n",
    "dea = ee.ImageCollection(\n",
    "    \"projects/sat-io/open-datasets/DEAF/CROPLAND-EXTENT/mask\"\n",
    ").mosaic()\n",
    "crop_data_dea = dea.select(\"b1\").rename(\"crop\").clip(aoi)\n",
    "crop_data_viz_dea = crop_data_dea.mask(crop_data_dea.gt(0))\n",
    "\n",
    "# Viz\n",
    "crop_vis = {\"min\": 2, \"max\": 3, \"palette\": [\"#cc0000\", \"#529400\"], \"opacity\": 0.75}\n",
    "crop_vis2 = {\"min\": 0, \"max\": 1, \"palette\": [\"#529400\"], \"opacity\": 0.75}\n",
    "pal = colormaps.get_palette(\"Greens\", 10)  # Greens BrBG\n",
    "adm_vis = {\"color\": \"000000\", \"width\": 1, \"opacity\": 0.25}\n",
    "\n",
    "m = Map(center=[centy, centx], zoom=6)  # basemap='Esri.WorldImagery'\n",
    "m.add_basemap(\"Esri.WorldImagery\")\n",
    "m.addLayer(\n",
    "    crop_data_viz, crop_vis, \"Crop Mask (LGRIP30)\"\n",
    ")  # Green is Rainfed, Red is Irrigated\n",
    "m.addLayer(\n",
    "    crop_data_viz_dea, crop_vis2, \"Crop Mask (Digital Earth Africa)\"\n",
    ")  # Green is Rainfed, Red is Irrigated\n",
    "m.addLayer(aoi, adm_vis, \"Country Boundary\")\n",
    "m.addLayerControl()\n",
    "m"
   ]
  },
  {
   "cell_type": "markdown",
   "metadata": {},
   "source": [
    "### Crop Area by Region"
   ]
  },
  {
   "cell_type": "code",
   "execution_count": null,
   "metadata": {
    "editable": true,
    "slideshow": {
     "slide_type": ""
    },
    "tags": [
     "hide-input"
    ]
   },
   "outputs": [],
   "source": [
    "import pandas as pd\n",
    "import ast\n",
    "\n",
    "df = pd.read_csv(\"../../data/adm1_crop_count.csv\")\n",
    "\n",
    "\n",
    "def load_dict(input_str):\n",
    "    input_str = input_str.replace(\"null\", \"'null'\")\n",
    "    input_str = input_str.replace(\"=\", \":\")\n",
    "    result_dict = ast.literal_eval(input_str)\n",
    "    return result_dict\n",
    "\n",
    "\n",
    "df.loc[:, \"histogram\"] = df.apply(lambda x: load_dict(x[\"histogram\"]), axis=1)\n",
    "\n",
    "bool_dict = {\n",
    "    0: \"non_crop\",\n",
    "    1: \"crop\",\n",
    "}\n",
    "histograms = df[\"histogram\"]\n",
    "histograms_dfs = [\n",
    "    pd.DataFrame(index=[idx], data=hist_dict) for idx, hist_dict in histograms.items()\n",
    "]\n",
    "histogram_df = pd.concat(histograms_dfs, axis=0).fillna(0)\n",
    "histogram_df.rename(columns=bool_dict, inplace=True)\n",
    "\n",
    "df = df.join(histogram_df)\n",
    "df = df.sort_values(by=\"crop\", ascending=False)\n",
    "df.loc[:, \"Crop Area ha.\"] = ((df[\"crop\"] * 100) / 10000).apply(lambda x: f\"{x:,.0f}\")\n",
    "df.loc[:, \"Crop Area Share (% of Region)\"] = (\n",
    "    df[\"crop\"] / (df[\"crop\"] + df[\"non_crop\"])\n",
    ").apply(lambda x: f\"{x:.2%}\")\n",
    "df.loc[:, \"Crop Area Share (% of Country)\"] = (df[\"crop\"] / (df[\"crop\"].sum())).apply(\n",
    "    lambda x: f\"{x:.2%}\"\n",
    ")\n",
    "df.rename(columns={\"ADM1_FR\": \"Region\"}, inplace=True)\n",
    "df[\n",
    "    [\n",
    "        \"Region\",\n",
    "        \"Crop Area ha.\",\n",
    "        \"Crop Area Share (% of Country)\",\n",
    "        \"Crop Area Share (% of Region)\",\n",
    "    ]\n",
    "].reset_index(drop=True)"
   ]
  },
  {
   "cell_type": "markdown",
   "metadata": {},
   "source": [
    "### MODIS\n",
    "We utilize Google Earth Engine to access the Enhanced Vegetation Index (EVI) band from the [MODIS satellite](https://modis.gsfc.nasa.gov/about/). By combining data from [Terra](https://lpdaac.usgs.gov/products/mod13q1v061/) and [Aqua](https://lpdaac.usgs.gov/products/myd13q1v061/), we obtain a map of EVI at 250 meters resolution every 8-days from 2001 to 2024. \n",
    "\n",
    "The enhanced vegetation index (EVI) is an 'optimized' vegetation index designed to enhance the vegetation signal with improved vegetation monitoring through a de-coupling of the canopy background signal and a reduction in atmosphere influences.\n",
    "\n",
    "We apply the necessary data masking steps:\n",
    "1. Mask out bad quality data (shadows/clouds)\n",
    "2. Mask out non-crop areas using the Digital Earth Africa crop layer.\n",
    "\n",
    "Below is an interactive map of EVI data for one timestep (2023-09-01)"
   ]
  },
  {
   "cell_type": "code",
   "execution_count": null,
   "metadata": {
    "editable": true,
    "scrolled": true,
    "slideshow": {
     "slide_type": ""
    },
    "tags": [
     "hide-input"
    ]
   },
   "outputs": [],
   "source": [
    "# MODIS\n",
    "start_period = ee.Date(\"2001-01-01\")\n",
    "end_period = ee.Date(\"2024-01-01\")\n",
    "terra = (\n",
    "    ee.ImageCollection(\"MODIS/061/MOD13Q1\")\n",
    "    .select([\"EVI\", \"SummaryQA\", \"DetailedQA\"])\n",
    "    .filterDate(start_period, end_period)\n",
    ")\n",
    "aqua = (\n",
    "    ee.ImageCollection(\"MODIS/061/MYD13Q1\")\n",
    "    .select([\"EVI\", \"SummaryQA\", \"DetailedQA\"])\n",
    "    .filterDate(start_period, end_period)\n",
    ")\n",
    "modis = terra.select(\"EVI\").merge(aqua.select(\"EVI\"))\n",
    "modis = modis.sort(\"system:time_start\")\n",
    "\n",
    "\n",
    "def bitwiseExtract(value, fromBit, toBit=None):\n",
    "    if toBit == None:\n",
    "        toBit = fromBit\n",
    "    maskSize = ee.Number(1).add(toBit).subtract(fromBit)\n",
    "    mask = ee.Number(1).leftShift(maskSize).subtract(1)\n",
    "    return value.rightShift(fromBit).bitwiseAnd(mask)\n",
    "\n",
    "\n",
    "# Applying the SummaryQA  and DetailedQA\n",
    "def modisQA_mask(image):\n",
    "    sqa = image.select(\"SummaryQA\")\n",
    "    dqa = image.select(\"DetailedQA\")\n",
    "    viQualityFlagsS = bitwiseExtract(sqa, 0, 1)\n",
    "    viQualityFlagsD = bitwiseExtract(dqa, 0, 1)\n",
    "    # viUsefulnessFlagsD = bitwiseExtract(dqa, 2, 5)\n",
    "    viSnowIceFlagsD = bitwiseExtract(dqa, 14)\n",
    "    viShadowFlagsD = bitwiseExtract(dqa, 15)\n",
    "    # Good data, use with confidence\n",
    "    mask = (\n",
    "        viQualityFlagsS.eq(0)\n",
    "        .And(viQualityFlagsD.eq(0))\n",
    "        .And(viQualityFlagsS.eq(1))\n",
    "        .And(viQualityFlagsD.eq(1))\n",
    "        .And(viSnowIceFlagsD)\n",
    "        .eq(0)\n",
    "    )\n",
    "    # .And(viShadowFlagsD).eq(0); # No shadow\n",
    "    return image.updateMask(mask)\n",
    "\n",
    "\n",
    "mod13q1_QC = terra.map(modisQA_mask)\n",
    "myd13q1_QC = aqua.map(modisQA_mask)\n",
    "mxd13q1_cleaned = mod13q1_QC.select(\"EVI\").merge(myd13q1_QC.select(\"EVI\"))\n",
    "mxd13q1_cleaned_sorted = mxd13q1_cleaned.sort(\"system:time_start\")\n",
    "\n",
    "scale_factor = 0.0001\n",
    "crop_data2 = dea.select(\"b1\").gt(0).rename(\"crop\")\n",
    "\n",
    "\n",
    "def cropmask(img):\n",
    "    return img.updateMask(crop_data2).clip(aoi)  # .multiply(scale_factor) # unmask(-1)\n",
    "\n",
    "\n",
    "mxd13q1 = mxd13q1_cleaned_sorted.map(cropmask)\n",
    "img = (\n",
    "    mxd13q1.filterDate(\"2023-09-01\", \"2023-10-01\")\n",
    "    .select(\"EVI\")\n",
    "    .first()\n",
    "    .multiply(scale_factor)\n",
    ")\n",
    "\n",
    "# Viz\n",
    "pal = colormaps.get_palette(\"Greens\", 10)  # Greens BrBG\n",
    "evi_vis = {\"min\": 0.1, \"max\": 0.4, \"palette\": pal}\n",
    "adm_vis = {\"color\": \"000000\", \"width\": 1, \"opacity\": 0.25}\n",
    "\n",
    "m = Map(center=[centy, centx], zoom=6)  # basemap='Esri.WorldImagery'\n",
    "m.add_basemap(\"Esri.WorldImagery\")\n",
    "m.addLayer(aoi, adm_vis, \"Country Boundary\")\n",
    "m.addLayer(img, evi_vis, \"EVI One Time Step (2023-09-01)\")\n",
    "m.add_colorbar(evi_vis, label=\"Enhanced Vegetation Index (EVI)\")\n",
    "m.addLayerControl()\n",
    "m"
   ]
  },
  {
   "cell_type": "markdown",
   "metadata": {},
   "source": [
    "## Methodology"
   ]
  },
  {
   "cell_type": "markdown",
   "metadata": {},
   "source": [
    "### Crop Seasonality\n",
    "Using this time series dataset of EVI images, we apply several pre-processing steps to extract critical phenological parameters: start of season (SOS), middle of season (MOS), end of season (EOS), length of season (LOS), etc. This workflow is heavily inspired by the [TIMESAT](https://web.nateko.lu.se/timesat/timesat.asp) software, although in this implementation we use the [Phenolopy](https://github.com/frontiersi/phenolopy/tree/main) open-source package.  \n",
    "\n",
    "**Pre-processing steps**  \n",
    "1. Remove outliers from dataset on per-pixel basis using median method: outlier if median from a moving window < or > standard deviation of time-series times 2.\n",
    "2. Interpolate missing values linearly\n",
    "3. Smooth data on per-pixel basis (using Savitsky Golay filter, window length of 3, and polyorder of 1)  \n",
    "\n",
    "**Phenology Process**  \n",
    "We then extract crop seasonality metrics using the seasonal amplitude method from the phenolopy package. \n",
    "\n",
    "The chart below shows the result of this process for a single crop pixel. The green dots represent the raw EVI values, the black line represents the processed EVI values, and the red dotted lines represent season parameters extracted for that pixel: start of season, peak of season, and end of season."
   ]
  },
  {
   "cell_type": "markdown",
   "metadata": {},
   "source": [
    "![chart](./charts/evi-phenology.jpeg)"
   ]
  },
  {
   "cell_type": "markdown",
   "metadata": {},
   "source": [
    "### Anomalies\n",
    "The seasonality parameters extracted confirm the crop calendar provided by [FAO's Global Information and Early Warning System](https://www.fao.org/giews/countrybrief/country.jsp?code=NER&lang=en), highlighting September as the peak month for the growing season. In order to estimate changes in agricultural productivity for a given year, we compare the monthly EVI value for September (median) against a historical baseline with 10 years of data (2004 through 2018).\n",
    "\n",
    "There are different approaches to calculate a deviation from a reference baseline, we express it as a z-score deviation.\n",
    "\n",
    "\n",
    "**Z-Score Calculation**  \n",
    "\n",
    "The anomaly is calculated based on difference from the average and standard deviation.\n",
    "\n",
    "$$\n",
    "\\text{anomaly z-score} = \\frac{{\\text{evi}} - \\text{mean_evi}}{\\text{std_evi}}\n",
    "$$"
   ]
  },
  {
   "cell_type": "markdown",
   "metadata": {},
   "source": [
    "## Results"
   ]
  },
  {
   "cell_type": "markdown",
   "metadata": {},
   "source": [
    "### Map of Anomalies 2023\n",
    "\n",
    "The map below shows pixel-level EVI anomalies from the latest season (2023). The green areas are pixels where agricultural conditions have been more favorable than in recent history, whereas the darker brown areas are pixels where agricultural outcomes are likely worse than average.  \n",
    "\n",
    "Overall, we observe favorable z-scores in 2023, meaning our proxy for agricultural productivity is higher than baseline conditions. Note that further analysis of rainfall and official yields data is needed to corroborate this conclusion. We also observe hotspots of productivity decline, particularly in Dosso and Tillaberi."
   ]
  },
  {
   "cell_type": "markdown",
   "metadata": {},
   "source": [
    "![map](./charts/map-anomalies.jpg)"
   ]
  },
  {
   "cell_type": "markdown",
   "metadata": {},
   "source": [
    "### Interactive Map of Anomalies (2014-2023)\n",
    "\n",
    "The map below shows pixel-level EVI anomalies for multiple seasons (2014 through 2023): toggle a specific year to display the values for that season."
   ]
  },
  {
   "cell_type": "code",
   "execution_count": null,
   "metadata": {
    "editable": true,
    "slideshow": {
     "slide_type": ""
    },
    "tags": [
     "hide-input"
    ]
   },
   "outputs": [],
   "source": [
    "# %%time\n",
    "# import branca.colormap as bcm\n",
    "# from matplotlib import colors as colors\n",
    "# import folium as flm\n",
    "# from os.path import join, expanduser\n",
    "# import numpy as np\n",
    "# import rasterio as rio\n",
    "# from rasterio import warp\n",
    "\n",
    "# vmin = -3\n",
    "# vmax = 3\n",
    "# colormap = bcm.linear.BrBG_11.scale(vmin, vmax)\n",
    "# data_dir = join(expanduser(\"~\"), \"data\", \"niger\")\n",
    "\n",
    "\n",
    "# def mapvalue2color(value, cmap):\n",
    "#     \"\"\"\n",
    "#     Map a pixel value of image to a color in the rgba format.\n",
    "#     As a special case, nans will be mapped totally transparent.\n",
    "\n",
    "#     Inputs\n",
    "#         -- value - pixel value of image, could be np.nan\n",
    "#         -- cmap - a linear colormap from branca.colormap.linear\n",
    "#     Output\n",
    "#         -- a color value in the rgba format (r, g, b, a)\n",
    "#     \"\"\"\n",
    "#     if np.isnan(value):\n",
    "#         return (1, 0, 0, 0)\n",
    "#     else:\n",
    "#         return colors.to_rgba(cmap(value), 1)  # 0.7\n",
    "\n",
    "\n",
    "# m = flm.Map(location=[centy, centx], tiles=\"CartoDB.Positron\", zoom_start=6)\n",
    "# dest_crs = \"EPSG:4326\"\n",
    "\n",
    "# for year in range(2014, 2024):\n",
    "#     src = rio.open(join(data_dir, f\"zcore_dea_{year}_09.tif\"))\n",
    "#     data = src.read(1)\n",
    "\n",
    "#     left, bottom, right, top = src.bounds\n",
    "#     left, bottom, right, top = warp.transform_bounds(\n",
    "#         src_crs=src.crs,\n",
    "#         dst_crs=dest_crs,\n",
    "#         left=left,\n",
    "#         bottom=bottom,\n",
    "#         right=right,\n",
    "#         top=top,\n",
    "#     )\n",
    "#     bounds = [[bottom, left], [top, right]]\n",
    "\n",
    "#     show = True if year == 2023 else False\n",
    "\n",
    "#     flm.raster_layers.ImageOverlay(\n",
    "#         image=data,\n",
    "#         name=f\"{year}\",\n",
    "#         opacity=1,\n",
    "#         bounds=bounds,\n",
    "#         interactive=False,\n",
    "#         cross_origin=False,\n",
    "#         zindex=1,\n",
    "#         colormap=lambda value: mapvalue2color(value, colormap),\n",
    "#         show=show,\n",
    "#     ).add_to(m)\n",
    "\n",
    "# colormap.caption = \"EVI Anomaly, Z-Score\"\n",
    "# m.add_child(colormap)\n",
    "# flm.LayerControl().add_to(m)\n",
    "# m\n",
    "# map_path = './charts/interactive-map-anomalies.html'\n",
    "# m.save(map_path)\n",
    "\n",
    "from IPython.display import IFrame, display\n",
    "\n",
    "map_path = \"./charts/interactive-map-anomalies.html\"\n",
    "IFrame(map_path, width=800, height=600)"
   ]
  },
  {
   "cell_type": "markdown",
   "metadata": {},
   "source": [
    "### Aggregate Shares by Productivity"
   ]
  },
  {
   "cell_type": "markdown",
   "metadata": {},
   "source": [
    "We run the same analysis for the previous 5 seasons, and aggregate the number of pixels according to different z-score buckets. The range of -1 to 1 signifies normal or average conditions. The shares above 1 signify greater than average conditions, whereas less than 1 signify worse conditions.\n",
    "\n",
    "Overall there is a positive trend in agricultural conditions relative to the past ten years. In 2023 most areas fall under positive anomalies, 2022 had more areas in favorable conditions."
   ]
  },
  {
   "cell_type": "markdown",
   "metadata": {},
   "source": [
    "![chart1](./charts/evi-anomalies-pct.jpeg)"
   ]
  },
  {
   "cell_type": "markdown",
   "metadata": {},
   "source": [
    "### Median Agricultural Productivity by Province"
   ]
  },
  {
   "cell_type": "markdown",
   "metadata": {},
   "source": [
    "In the plot below, we aggregate the median EVI value for each region and compare that with the historical average (gray dotted line). Most provinces show productivity trends close or slightly above the baseline for 2023, except for Diffa and Dosso where the median trend is below the baseline."
   ]
  },
  {
   "cell_type": "markdown",
   "metadata": {},
   "source": [
    "![chart2](./charts/evi-median-region.jpeg)"
   ]
  },
  {
   "cell_type": "markdown",
   "metadata": {},
   "source": [
    "## Agricultural Productivity and Conflict\n",
    "\n",
    "### Visual Overlay\n",
    "The following map combines the **EVI Anomaly** map presented earlier with a heatmap of conflict events from ACLED. The heatmap is produced by filtering ACLED events for 2023 and weighting the points by the number of fatalities.  \n",
    "\n",
    "- The heatmap shows that highest density of conflict fatalities is in the western regions, primarily in Tillabéri.\n",
    "- The agriculture proxy for this area does not signal negative conditions, instead, the map shows the EVI index for this area is relatively high."
   ]
  },
  {
   "cell_type": "code",
   "execution_count": null,
   "metadata": {
    "editable": true,
    "slideshow": {
     "slide_type": ""
    },
    "tags": [
     "hide-input"
    ]
   },
   "outputs": [],
   "source": [
    "# from shapely.geometry import Point\n",
    "# from folium import plugins\n",
    "\n",
    "# acled = pd.read_csv(\"../../data/Niger_conflict_data.csv\")\n",
    "# acled.loc[:, \"geometry\"] = acled.apply(lambda x: Point(x.longitude, x.latitude), axis=1)\n",
    "# acled = gpd.GeoDataFrame(acled, geometry=\"geometry\", crs=\"EPSG:4326\")\n",
    "# acled_filt = acled.loc[acled[\"year\"] == 2023].copy()\n",
    "# # acled_filt.loc[acled_filt.fatalities==0, \"fatalities\"] = 1\n",
    "# acled_filt.loc[:, \"fatalities_norm\"] = (\n",
    "#     acled_filt.fatalities - acled_filt.fatalities.min()\n",
    "# ) / (acled_filt.fatalities.max() - acled_filt.fatalities.min())\n",
    "# heat_data = [\n",
    "#     [row.geometry.xy[1][0], row.geometry.xy[0][0], row.fatalities_norm]\n",
    "#     for idx, row in acled_filt.iterrows()\n",
    "# ]\n",
    "# m = flm.Map(location=[centy, centx], tiles=\"CartoDB.Positron\", zoom_start=5)\n",
    "# plugins.HeatMap(heat_data, name=\"Conflict Heat Map (ACLED, 2023)\", radius=25).add_to(m)\n",
    "\n",
    "# year = 2023\n",
    "# src = rio.open(join(data_dir, f\"zcore_dea_{year}_09.tif\"))\n",
    "# data = src.read(1)\n",
    "\n",
    "# left, bottom, right, top = src.bounds\n",
    "# left, bottom, right, top = warp.transform_bounds(\n",
    "#     src_crs=src.crs, dst_crs=dest_crs, left=left, bottom=bottom, right=right, top=top\n",
    "# )\n",
    "# bounds = [[bottom, left], [top, right]]\n",
    "# flm.raster_layers.ImageOverlay(\n",
    "#     image=data,\n",
    "#     name=f\"EVI Anomaly {year}\",\n",
    "#     opacity=1,\n",
    "#     bounds=bounds,\n",
    "#     # interactive=False,\n",
    "#     # cross_origin=False,\n",
    "#     # zindex=1,\n",
    "#     colormap=lambda value: mapvalue2color(value, colormap),\n",
    "# ).add_to(m)\n",
    "\n",
    "# colormap.caption = \"EVI Anomaly, Z-Score\"\n",
    "# m.add_child(colormap)\n",
    "\n",
    "# flm.LayerControl().add_to(m)\n",
    "# m\n",
    "\n",
    "# map_path = './charts/interactive-map-anomalies-conflict.html'\n",
    "# m.save(map_path)\n",
    "\n",
    "map_path = \"./charts/interactive-map-anomalies-conflict.html\"\n",
    "IFrame(map_path, width=800, height=600)"
   ]
  },
  {
   "cell_type": "markdown",
   "metadata": {},
   "source": [
    "### Statistical Analysis\n",
    "In order to combine conflict data (points) with our agricultural map (250-meter grid), we employ the following approach:\n",
    "1. Filter conflict events for 2023.\n",
    "2. Apply 10-km buffer to each point.\n",
    "3. Convert conflict buffers to grid (calculate sum of fatalities/events per grid cell).\n",
    "4. Calculate grouped averages and correlation statistics."
   ]
  },
  {
   "cell_type": "markdown",
   "metadata": {},
   "source": [
    "### Conflict Averages by Agricultural Productivity\n",
    "We use a similar grouping of EVI anomalies (z-scores) to examine conflict statistics per agricultural productivity bucket.  \n",
    "\n",
    "We observe a counter-intuitive pattern: areas with better productivity scores show high conflict averages, whereas areas with low productivity scores show lower conflict scores."
   ]
  },
  {
   "cell_type": "code",
   "execution_count": null,
   "metadata": {
    "editable": true,
    "slideshow": {
     "slide_type": ""
    },
    "tags": [
     "hide-input"
    ]
   },
   "outputs": [],
   "source": [
    "import numpy as np\n",
    "\n",
    "df = pd.read_csv(\"../../data/evi_conflict.csv\", index_col=0)\n",
    "bins = [-50, -2, -1, 1, 2, 50]\n",
    "bin_labels = [\n",
    "    \"Worse: < -2\",\n",
    "    \"Less Productive: (-2, -1]\",\n",
    "    \"Normal: (-1, 1]\",\n",
    "    \"More Productive: (1, 2]\",\n",
    "    \"Better: > 2\",\n",
    "]\n",
    "# bins = [-50, -2, -1, -0.5, 0.5, 1, 2, 50]\n",
    "# bin_labels = ['Worse: < -2', 'Less Productive: (-2, -1]', '(-1, -0.5]', 'Normal: (-0.5, 0.5]', '(0.5, 1]', 'More Productive: (1, 2]', 'Better: > 2']\n",
    "\n",
    "df.loc[:, \"zscore_bin\"] = pd.cut(\n",
    "    df[\"evi\"], bins=bins, include_lowest=True, labels=bin_labels\n",
    ")\n",
    "df.loc[:, \"acled_log\"] = np.log10(df.loc[:, \"acled\"] + 1)\n",
    "\n",
    "# table = df.groupby('zscore_bin')[['acled']].mean()\n",
    "table = df.groupby(\"zscore_bin\").agg(\n",
    "    {\"acled\": \"mean\", \"acled_log\": \"mean\", \"acled_count\": \"mean\"}\n",
    ")\n",
    "table.index.name = \"EVI Anomaly\"\n",
    "table.rename(\n",
    "    columns={\n",
    "        \"acled\": \"Average Fatalities\",\n",
    "        \"acled_log\": \"Average Fatalities (log)\",\n",
    "        \"acled_count\": \"Average No. of Events\",\n",
    "    },\n",
    "    inplace=True,\n",
    ")\n",
    "table.iloc[:, :3] = table.iloc[:, :3].applymap(lambda x: \"{:.2f}\".format(x))\n",
    "\n",
    "display(table)"
   ]
  },
  {
   "cell_type": "markdown",
   "metadata": {},
   "source": [
    "### Correlation Table  \n",
    "We further examine the gridded data by calculating correlation coefficients between the EVI anomaly and various conflict metrics.  \n",
    "\n",
    "Conflict data is not strongly correlated (neither positively nor negatively) with EVI anomalies. The highest correlation value between the two is 0.08."
   ]
  },
  {
   "cell_type": "code",
   "execution_count": null,
   "metadata": {
    "editable": true,
    "slideshow": {
     "slide_type": ""
    },
    "tags": [
     "hide-input"
    ]
   },
   "outputs": [],
   "source": [
    "df2 = df[[\"evi\", \"acled\", \"acled_count\", \"acled_log\"]].copy()\n",
    "df2.rename(\n",
    "    columns={\n",
    "        \"evi\": \"Enhanced Vegetation Index Anomaly\",\n",
    "        \"acled\": \"Conflict Fatalities\",\n",
    "        \"acled_log\": \"Conflict Fatalities (log)\",\n",
    "        \"acled_count\": \"Conflict Events\",\n",
    "    },\n",
    "    inplace=True,\n",
    ")\n",
    "corr_tab = df2.corr()\n",
    "corr_tab.iloc[:, :] = corr_tab.iloc[:, :].applymap(lambda x: \"{:.2f}\".format(x))\n",
    "display(corr_tab)"
   ]
  },
  {
   "cell_type": "markdown",
   "metadata": {},
   "source": [
    "- This apparent paradox should be studied more carefully with meterological data (rainfall and drought patterns) and reported/surveyed yield data.\n",
    "- Future research should investigate if vegetation values are more dependent on weather patterns, and if crop yields could still be interrupted by conflict despite the crops being active.\n",
    "- Additionaly, other sophisticated metrics of conflict could be considered (spatial interpolation (to avoid majority of 0 values), or proximity (distance) to conflict events."
   ]
  },
  {
   "cell_type": "markdown",
   "metadata": {},
   "source": [
    "## Crop Classification\n",
    "With the objective of creating crop extent maps for different years, we ran a classification model using the EVI time series and crop seasonality parameters (250 meter resolution). We trained the model by selecting data for crop polygons from [Digital Earth Africa](https://docs.digitalearthafrica.org/en/latest/data_specs/Cropland_extent_specs.html#Training-and-Validation-data), resulting in a training dataset of ~500 areas and 18 features (EVI-derived crop season parameters).   \n",
    "\n",
    "We used a Random Forest Classifier and validated the method on a test dataset (20% of training data not used in the model). Although the method was able to identify crops from the test dataset, the R-squared was quite low meaning the model is not fit for general use yet. \n",
    "\n",
    "**Accuracy of the Model**:  0.809  \n",
    "**R-Squared**:  0.227  \n",
    "\n",
    "See more details in [notebook](evi-classification.ipynb)."
   ]
  },
  {
   "cell_type": "markdown",
   "metadata": {},
   "source": [
    "## Outlook for 2024\n",
    "Despite the favorable vegetation conditions in 2023, food security agencies are projecting large food security shocks across Niger in 2024. The key factors are increasing food prices and market disruptions due to insecurity and sociopolitical factors. An in-depth analysis can be found from the [FEWS NET Food Security Outlook Februrary 2024](https://fews.net/west-africa/niger/food-security-outlook/february-2024)"
   ]
  },
  {
   "cell_type": "markdown",
   "metadata": {},
   "source": [
    "### Food Security IPC Classification \n",
    "Source: FEWS NET"
   ]
  },
  {
   "cell_type": "markdown",
   "metadata": {},
   "source": [
    "![Niger_2024-02-01_ML1.png](./charts/Niger_2024-04-01_ML1.png)"
   ]
  }
 ],
 "metadata": {
  "kernelspec": {
   "display_name": "Python 3 (ipykernel)",
   "language": "python",
   "name": "python3"
  },
  "language_info": {
   "codemirror_mode": {
    "name": "ipython",
    "version": 3
   },
   "file_extension": ".py",
   "mimetype": "text/x-python",
   "name": "python",
   "nbconvert_exporter": "python",
   "pygments_lexer": "ipython3",
   "version": "3.10.10"
  },
  "metadata": {
   "mystnb": {
    "execution_mode": "force"
   }
  }
 },
 "nbformat": 4,
 "nbformat_minor": 4
}
